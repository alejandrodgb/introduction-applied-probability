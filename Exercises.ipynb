{
 "cells": [
  {
   "cell_type": "code",
   "execution_count": 1,
   "metadata": {},
   "outputs": [],
   "source": [
    "import itertools\n",
    "import math\n",
    "import numpy as np"
   ]
  },
  {
   "cell_type": "code",
   "execution_count": 2,
   "metadata": {},
   "outputs": [],
   "source": [
    "# Section 3 - Exercise 7\n",
    "\n",
    "balls = ['R','R','R','R','R','R','R','R',\n",
    "         'W','W','W','W','W']"
   ]
  },
  {
   "cell_type": "code",
   "execution_count": 10,
   "metadata": {},
   "outputs": [
    {
     "name": "stdout",
     "output_type": "stream",
     "text": [
      "n(S) = 286\n"
     ]
    }
   ],
   "source": [
    "# Retrieve 3 balls at random\n",
    "# Combinations of 3 balls in the balls bag\n",
    "bc = np.array(list(itertools.combinations(balls,3)))\n",
    "print(f'n(S) = {bc.shape[0]}')"
   ]
  },
  {
   "cell_type": "code",
   "execution_count": 27,
   "metadata": {},
   "outputs": [
    {
     "name": "stdout",
     "output_type": "stream",
     "text": [
      "n(E) = 10\n"
     ]
    }
   ],
   "source": [
    "# Probability of three whites\n",
    "print(f\"n(E) = {(np.where((bc==['W','W','W']).sum(axis=1)==3)[0]).shape[0]}\")"
   ]
  }
 ],
 "metadata": {
  "kernelspec": {
   "display_name": "Python 3",
   "language": "python",
   "name": "python3"
  },
  "language_info": {
   "codemirror_mode": {
    "name": "ipython",
    "version": 3
   },
   "file_extension": ".py",
   "mimetype": "text/x-python",
   "name": "python",
   "nbconvert_exporter": "python",
   "pygments_lexer": "ipython3",
   "version": "3.7.5"
  }
 },
 "nbformat": 4,
 "nbformat_minor": 2
}
